{
  "nbformat": 4,
  "nbformat_minor": 0,
  "metadata": {
    "colab": {
      "name": "GEE_Daymet_RH_temp_via_python.ipynb",
      "provenance": [],
      "authorship_tag": "ABX9TyPF4iLSk+mBhZgKEmnxsNw+",
      "include_colab_link": true
    },
    "kernelspec": {
      "name": "python3",
      "display_name": "Python 3"
    },
    "language_info": {
      "name": "python"
    }
  },
  "cells": [
    {
      "cell_type": "markdown",
      "metadata": {
        "id": "view-in-github",
        "colab_type": "text"
      },
      "source": [
        "<a href=\"https://colab.research.google.com/github/ncsu-landscape-dynamics/GEE_Daymet_temp_and_RH_via_Python/blob/main/GEE_Daymet_RH_temp_via_python.ipynb\" target=\"_parent\"><img src=\"https://colab.research.google.com/assets/colab-badge.svg\" alt=\"Open In Colab\"/></a>"
      ]
    },
    {
      "cell_type": "code",
      "source": [
        "from google.colab import drive\n",
        "drive.mount('/content/drive', force_remount=True)\n"
      ],
      "metadata": {
        "id": "StFux7bOLC_Z",
        "colab": {
          "base_uri": "https://localhost:8080/"
        },
        "outputId": "fb87c478-3ea9-4bad-ef80-5fa857a3d584"
      },
      "execution_count": 1,
      "outputs": [
        {
          "output_type": "stream",
          "name": "stdout",
          "text": [
            "Mounted at /content/drive\n"
          ]
        }
      ]
    },
    {
      "cell_type": "code",
      "source": [
        "!pip install geetools\n",
        "\n",
        "import geetools\n",
        "import folium\n",
        "import ee\n",
        "\n",
        "ee.Authenticate()\n"
      ],
      "metadata": {
        "id": "3sK8KH5PJ4CL"
      },
      "execution_count": null,
      "outputs": []
    },
    {
      "cell_type": "code",
      "source": [
        "ee.Initialize()\n",
        "\n",
        "# Some prelims:\n",
        "# Outline of lower 48 U.S.\n",
        "usbound = ee.Image(\"users/japolo/us_bounds\")\n",
        "usb = usbound.geometry()\n",
        "\n",
        "#oeel = require('users/OEEL/lib:loadAll')\n",
        "def clip_img(img):\n",
        "    return ee.Image(img).clip(usb)\n"
      ],
      "metadata": {
        "id": "sEWWds4RGw5c"
      },
      "execution_count": 3,
      "outputs": []
    },
    {
      "cell_type": "code",
      "source": [
        "# Set up Daymet collection from 2009 to 2020\n",
        "daymetb = ee.ImageCollection(\"NASA/ORNL/DAYMET_V4\").filterDate('2009-05-29', '2009-05-31').map(clip_img)\n"
      ],
      "metadata": {
        "id": "rqknLxxrGzXa"
      },
      "execution_count": 4,
      "outputs": []
    },
    {
      "cell_type": "code",
      "execution_count": 5,
      "metadata": {
        "id": "7pyKs8u3JT5N"
      },
      "outputs": [],
      "source": [
        "# Set up projection for reproject of Daymet\n",
        "proj = ee.Projection('EPSG:4326')\n",
        "\n",
        "# Wrong\n",
        "def imreproj(image):\n",
        "    return image.reproject(crs='EPSG:4326', scale = 1000)\n",
        "\n",
        "# Reproject Daymet\n",
        "daymet = daymetb.map(imreproj)\n",
        "\n",
        "# Vapor pressure from Daymet\n",
        "dayvp = daymet.select('vp')\n",
        "\n",
        "# Daylength\n",
        "daydl = daymet.select('dayl')\n",
        "\n",
        "# Set a threshold of temps for use in a later calculation\n",
        "def threshold(image):\n",
        "    return image.where(image.lt(-5.0), -5)\n",
        "\n",
        "# Set up tmax and tmin\n",
        "daytm = daymet.select('tmax','tmin')\n",
        "# Apply threshold\n",
        "daytm2 = daytm.map(threshold)\n",
        "\n",
        "# Use an equals filter to define how the collections match.\n",
        "filter = ee.Filter.equals(leftField = 'system:index', rightField = 'system:index')\n",
        "\n",
        "# Create the join.\n",
        "simpleJoin = ee.Join.simple()\n",
        "\n",
        "# Applt join\n",
        "mod1join = ee.ImageCollection(simpleJoin.apply(daytm2, daydl, filter))\n",
        "mod2join = ee.ImageCollection(simpleJoin.apply(daydl, daytm2, filter))\n",
        "\n",
        "def enhance(image):\n",
        "    # Create a collection with 1 image\n",
        "    temp = ee.ImageCollection(ee.List([image]))\n",
        "    # Apply join to collection 2\n",
        "    # Resulting collection will have 1 image with exact same date as img\n",
        "    join = simpleJoin.apply(mod2join, temp, filter)\n",
        "    # Get resulting image\n",
        "    i2 = ee.Image(join.first())\n",
        "    return image.addBands(i2)\n",
        "\n",
        "step1 = mod1join.map(enhance)\n",
        "\n",
        "TC = 4.0\n",
        "P = 1.5\n",
        "\n",
        "def temB4sunris(image):\n",
        "  day_len = image.select('dayl').divide(3600)\n",
        "  up_time = day_len.multiply(-0.5).add(12)\n",
        "  set_time = day_len.multiply(0.5).add(12)\n",
        "  nitelen = image.expression(\n",
        "  'daylen * -1 + 24', {\n",
        "    'daylen' : day_len\n",
        "  })\n",
        "  snsetT = image.expression(\n",
        "  '(tmin + (tmax - tmin) * sin(pi * (daylen / (daylen + 2 * P))))', {\n",
        "    'tmin' : image.select('tmin'),\n",
        "    'tmax' : image.select('tmax'),\n",
        "    'daylen' : day_len,\n",
        "    'pi' : 3.14159,\n",
        "    'P' : 1.5\n",
        "    })\n",
        "  snsetT2 = image.expression(\n",
        "  '(tmin - snsetT * exp(-1 * nitelen / TC) + (snsetT - tmin) * exp(-1 * (hr + 24 - sunset) / TC)) / (1 - exp(-1 * nitelen / TC))', {\n",
        "    'tmin' : image.select('tmin'),\n",
        "    'snsetT' : snsetT,\n",
        "    'nitelen' : nitelen,\n",
        "    'tmax' : image.select('tmax'),\n",
        "    'hr' : 0,\n",
        "    'sunset' : set_time,\n",
        "    'daylen' : day_len,\n",
        "    'pi' : 3.14159,\n",
        "    'P' : 1.5,\n",
        "    'TC' : 4.0\n",
        "    })\n",
        "  snsetT2 = snsetT2.rename('T_early')\n",
        "  return snsetT2.copyProperties(image, ['system:time_start']).copyProperties(image,['system:index'])\n"
      ]
    },
    {
      "cell_type": "code",
      "source": [
        "mnitetem09 = step1.map(temB4sunris)\n",
        "\n",
        "mod1join = ee.ImageCollection(simpleJoin.apply(dayvp, mnitetem09, filter))\n",
        "mod2join = ee.ImageCollection(simpleJoin.apply(mnitetem09, dayvp, filter))\n",
        "\n",
        "tearlyvp = mod1join.map(enhance)\n"
      ],
      "metadata": {
        "id": "zNtg-VH-D7X6"
      },
      "execution_count": 6,
      "outputs": []
    },
    {
      "cell_type": "code",
      "source": [
        "# Morning temp climb\n",
        "def tempclimb(image):\n",
        "   day_len = image.select('dayl').divide(3600)\n",
        "   up_time = day_len.multiply(-0.5).add(12)\n",
        "   tempup = image.expression(\n",
        "   'tmin + (tmax - tmin) * sin(pi * (hr - sunris) / (daylen + 2 * P))', {\n",
        "    'tmin' : image.select('tmin'),\n",
        "    'tmax' : image.select('tmax'),\n",
        "    'pi' : 3.14159,\n",
        "    'hr' : 0,\n",
        "    'sunris' : up_time,\n",
        "    'daylen' : day_len,\n",
        "    'P' : 1.5\n",
        "    })\n",
        "   return tempup\n"
      ],
      "metadata": {
        "id": "_0eFCquyQ0Kg"
      },
      "execution_count": null,
      "outputs": []
    },
    {
      "cell_type": "code",
      "source": [
        "# After daily high T, before sunset\n",
        "def tempdown(image):\n",
        "   day_len = image.select('dayl').divide(3600)\n",
        "   up_time = day_len.multiply(-0.5).add(12)\n",
        "   tempdrop = ee.Image.expression(\n",
        "    'tmin + (tmax - tmin) * sin(pi * (hr - sunris) / (daylen + 2 * P))', {\n",
        "      'tmin' : image.select('tmin'),\n",
        "      'tmax' : image.select('tmax'),\n",
        "      'pi' : 3.14159,\n",
        "      'hr' : 0,\n",
        "      'sunris' : up_time,\n",
        "      'daylen' : day_len,\n",
        "      'P' : 1.5\n",
        "   })\n",
        "   return tempdown\n"
      ],
      "metadata": {
        "id": "_dygylUIQ73q"
      },
      "execution_count": null,
      "outputs": []
    },
    {
      "cell_type": "code",
      "source": [
        "# before midnight\n",
        "def tempnite = function(image) {\n",
        "  day_len = image.select('dayl').divide(3600)\n",
        "  up_time = day_len.multiply(-0.5).add(12)\n",
        "  set_time = day_len.multiply(0.5).add(12)\n",
        "  nitelen = ee.Image().expression(\n",
        "  'daylen * -1 + 24', {\n",
        "    'daylen' : day_len\n",
        "  })\n",
        "  snsetT = ee.Image().expression(\n",
        "  '(tmin + (tmax - tmin) * sin(pi * (daylen / (daylen + 2 * P))))', {\n",
        "    'tmin' : image.select('tmin'),\n",
        "    'tmax' : image.select('tmax'),\n",
        "    'daylen' : day_len,\n",
        "    'pi' : 3.14159,\n",
        "    'P' : 1.5\n",
        "    })\n",
        "  tempdark = ee.Image.expression(\n",
        "  '(tmin - snsetT * exp(-1 * nitelen / TC) + (snsetT - tmin) * exp(-1 * (hr - sunset) / TC)) / (1 - exp(-1 * nitelen / TC))', {\n",
        "    'tmin' : image.select('tmin'),\n",
        "    'snsetT' : snsetT,\n",
        "    'nitelen' : nitelen,\n",
        "    'tmax' : image.select('tmax'),\n",
        "    'hr' : i,\n",
        "    'sunset' : set_time,\n",
        "    'daylen' : day_len,\n",
        "    'pi' : 3.14159,\n",
        "    'P' : 1.5,\n",
        "    'TC' : 4.0\n",
        "    })\n",
        "   return tempdark\n"
      ],
      "metadata": {
        "id": "56HuLcGpI9Bc"
      },
      "execution_count": null,
      "outputs": []
    },
    {
      "cell_type": "code",
      "source": [
        "def relhum(image):\n",
        "    svp1 = ee.Image().expression(\n",
        "    '611 * 10**(7.5 * temp / (237.7 + temp))',{  #pascals. use 6.11 for kpa\n",
        "      'temp' : image.select('T_early')\n",
        "    })\n",
        "    svp2 = ee.Image().expression(\n",
        "    'vp * 100 / svp1', {\n",
        "      'vp' : image.select('vp'),\n",
        "      'svp1' : svp1\n",
        "    })\n",
        "    svp2 = svp2.where(svp2.gt(100), 100)\n",
        "    rel_h = svp2.where(svp2.lt(0), 0)\n",
        "    rel_h = rel_h.rename('rel_hum')\n",
        "    return ee.Image(rel_h).copyProperties(image, ['system:time_start']).copyProperties(image,['system:index'])\n"
      ],
      "metadata": {
        "id": "xh-H4-_KDnVH"
      },
      "execution_count": 7,
      "outputs": []
    },
    {
      "cell_type": "code",
      "source": [
        "mnittmrh09 = tearlyvp.map(relhum)\n",
        "\n",
        "mod1join = ee.ImageCollection(simpleJoin.apply(mnittmrh09, tearlyvp, filter))\n",
        "mod2join = ee.ImageCollection(simpleJoin.apply(tearlyvp, mnittmrh09, filter))\n",
        "\n",
        "tearlyvp = mod1join.map(enhance)\n"
      ],
      "metadata": {
        "id": "YECax7iOD6Fr"
      },
      "execution_count": 8,
      "outputs": []
    },
    {
      "cell_type": "code",
      "source": [
        "\n",
        "print(tearlyvp.first().getInfo())"
      ],
      "metadata": {
        "colab": {
          "base_uri": "https://localhost:8080/"
        },
        "id": "2Beu_i-lQM_s",
        "outputId": "411a9b1d-dfc0-45e0-ecf9-d2d7767786da"
      },
      "execution_count": 9,
      "outputs": [
        {
          "output_type": "stream",
          "name": "stdout",
          "text": [
            "{'type': 'Image', 'bands': [{'id': 'rel_hum', 'data_type': {'type': 'PixelType', 'precision': 'double'}, 'crs': 'EPSG:4326', 'crs_transform': [0.008983152841195215, 0, 0, 0, -0.008983152841195215, 0]}, {'id': 'vp', 'data_type': {'type': 'PixelType', 'precision': 'float'}, 'crs': 'EPSG:4326', 'crs_transform': [0.008983152841195215, 0, 0, 0, -0.008983152841195215, 0]}, {'id': 'T_early', 'data_type': {'type': 'PixelType', 'precision': 'double'}, 'crs': 'EPSG:4326', 'crs_transform': [0.008983152841195215, 0, 0, 0, -0.008983152841195215, 0]}], 'properties': {'system:time_start': 1243555200000, 'system:index': '20090529'}}\n"
          ]
        }
      ]
    },
    {
      "cell_type": "code",
      "source": [
        "t_rh_2009_00 = tearlyvp.select(['T_early','rel_hum'])"
      ],
      "metadata": {
        "id": "cZK3a113EGc0"
      },
      "execution_count": 30,
      "outputs": []
    },
    {
      "cell_type": "code",
      "source": [
        "scale = 1000\n",
        "name = 't_rh_2009_00'\n",
        "name_pattern = name+'_{system_date}'\n",
        "## the keywords between curly brackets can be {system_date} for the date of the\n",
        "## image (formatted using `date_pattern` arg), {id} for the id of the image\n",
        "## and/or any image property. You can also pass extra keywords using the `extra`\n",
        "## argument. Also, numeric values can be formatted using a format string (as\n",
        "## shown in {WRS_PATH:%d} (%d means it will be converted to integer)\n",
        "date_pattern = 'yMMMdd' # dd: day, MMM: month (JAN), y: year\n",
        "folder = 'daymets_temp_hr'\n",
        "data_type = 'uint8'\n",
        "region1 = usb\n",
        "\n",
        "# ## Export\n",
        "tasks = geetools.batch.Export.imagecollection.toDrive(\n",
        "            collection=t_rh_2009_00,\n",
        "            folder=folder,\n",
        "            namePattern=name_pattern,\n",
        "            #scale=scale,\n",
        "            dataType=data_type,\n",
        "            datePattern=date_pattern,\n",
        "            verbose=True,\n",
        "            region=region1,\n",
        "            maxPixels=int(1e13)\n",
        "        )\n"
      ],
      "metadata": {
        "id": "lYj7TA9pJ0UA",
        "colab": {
          "base_uri": "https://localhost:8080/",
          "height": 1000
        },
        "outputId": "79488183-f2cd-40ea-d1d8-d108b4e51ef4"
      },
      "execution_count": 31,
      "outputs": [
        {
          "output_type": "error",
          "ename": "EEException",
          "evalue": "ignored",
          "traceback": [
            "\u001b[0;31m---------------------------------------------------------------------------\u001b[0m",
            "\u001b[0;31mHttpError\u001b[0m                                 Traceback (most recent call last)",
            "\u001b[0;32m/usr/local/lib/python3.7/dist-packages/ee/data.py\u001b[0m in \u001b[0;36m_execute_cloud_call\u001b[0;34m(call, num_retries)\u001b[0m\n\u001b[1;32m    329\u001b[0m   \u001b[0;32mtry\u001b[0m\u001b[0;34m:\u001b[0m\u001b[0;34m\u001b[0m\u001b[0;34m\u001b[0m\u001b[0m\n\u001b[0;32m--> 330\u001b[0;31m     \u001b[0;32mreturn\u001b[0m \u001b[0mcall\u001b[0m\u001b[0;34m.\u001b[0m\u001b[0mexecute\u001b[0m\u001b[0;34m(\u001b[0m\u001b[0mnum_retries\u001b[0m\u001b[0;34m=\u001b[0m\u001b[0mnum_retries\u001b[0m\u001b[0;34m)\u001b[0m\u001b[0;34m\u001b[0m\u001b[0;34m\u001b[0m\u001b[0m\n\u001b[0m\u001b[1;32m    331\u001b[0m   \u001b[0;32mexcept\u001b[0m \u001b[0mgoogleapiclient\u001b[0m\u001b[0;34m.\u001b[0m\u001b[0merrors\u001b[0m\u001b[0;34m.\u001b[0m\u001b[0mHttpError\u001b[0m \u001b[0;32mas\u001b[0m \u001b[0me\u001b[0m\u001b[0;34m:\u001b[0m\u001b[0;34m\u001b[0m\u001b[0;34m\u001b[0m\u001b[0m\n",
            "\u001b[0;32m/usr/local/lib/python3.7/dist-packages/googleapiclient/_helpers.py\u001b[0m in \u001b[0;36mpositional_wrapper\u001b[0;34m(*args, **kwargs)\u001b[0m\n\u001b[1;32m    133\u001b[0m                     \u001b[0mlogger\u001b[0m\u001b[0;34m.\u001b[0m\u001b[0mwarning\u001b[0m\u001b[0;34m(\u001b[0m\u001b[0mmessage\u001b[0m\u001b[0;34m)\u001b[0m\u001b[0;34m\u001b[0m\u001b[0;34m\u001b[0m\u001b[0m\n\u001b[0;32m--> 134\u001b[0;31m             \u001b[0;32mreturn\u001b[0m \u001b[0mwrapped\u001b[0m\u001b[0;34m(\u001b[0m\u001b[0;34m*\u001b[0m\u001b[0margs\u001b[0m\u001b[0;34m,\u001b[0m \u001b[0;34m**\u001b[0m\u001b[0mkwargs\u001b[0m\u001b[0;34m)\u001b[0m\u001b[0;34m\u001b[0m\u001b[0;34m\u001b[0m\u001b[0m\n\u001b[0m\u001b[1;32m    135\u001b[0m \u001b[0;34m\u001b[0m\u001b[0m\n",
            "\u001b[0;32m/usr/local/lib/python3.7/dist-packages/googleapiclient/http.py\u001b[0m in \u001b[0;36mexecute\u001b[0;34m(self, http, num_retries)\u001b[0m\n\u001b[1;32m    914\u001b[0m         \u001b[0;32mif\u001b[0m \u001b[0mresp\u001b[0m\u001b[0;34m.\u001b[0m\u001b[0mstatus\u001b[0m \u001b[0;34m>=\u001b[0m \u001b[0;36m300\u001b[0m\u001b[0;34m:\u001b[0m\u001b[0;34m\u001b[0m\u001b[0;34m\u001b[0m\u001b[0m\n\u001b[0;32m--> 915\u001b[0;31m             \u001b[0;32mraise\u001b[0m \u001b[0mHttpError\u001b[0m\u001b[0;34m(\u001b[0m\u001b[0mresp\u001b[0m\u001b[0;34m,\u001b[0m \u001b[0mcontent\u001b[0m\u001b[0;34m,\u001b[0m \u001b[0muri\u001b[0m\u001b[0;34m=\u001b[0m\u001b[0mself\u001b[0m\u001b[0;34m.\u001b[0m\u001b[0muri\u001b[0m\u001b[0;34m)\u001b[0m\u001b[0;34m\u001b[0m\u001b[0;34m\u001b[0m\u001b[0m\n\u001b[0m\u001b[1;32m    916\u001b[0m         \u001b[0;32mreturn\u001b[0m \u001b[0mself\u001b[0m\u001b[0;34m.\u001b[0m\u001b[0mpostproc\u001b[0m\u001b[0;34m(\u001b[0m\u001b[0mresp\u001b[0m\u001b[0;34m,\u001b[0m \u001b[0mcontent\u001b[0m\u001b[0;34m)\u001b[0m\u001b[0;34m\u001b[0m\u001b[0;34m\u001b[0m\u001b[0m\n",
            "\u001b[0;31mHttpError\u001b[0m: <HttpError 400 when requesting https://earthengine.googleapis.com/v1alpha/projects/earthengine-legacy/value:compute?prettyPrint=false&alt=json returned \"User memory limit exceeded.\". Details: \"User memory limit exceeded.\">",
            "\nDuring handling of the above exception, another exception occurred:\n",
            "\u001b[0;31mEEException\u001b[0m                               Traceback (most recent call last)",
            "\u001b[0;32m<ipython-input-31-94ebc316f3f1>\u001b[0m in \u001b[0;36m<module>\u001b[0;34m()\u001b[0m\n\u001b[1;32m     22\u001b[0m             \u001b[0mverbose\u001b[0m\u001b[0;34m=\u001b[0m\u001b[0;32mTrue\u001b[0m\u001b[0;34m,\u001b[0m\u001b[0;34m\u001b[0m\u001b[0;34m\u001b[0m\u001b[0m\n\u001b[1;32m     23\u001b[0m             \u001b[0mregion\u001b[0m\u001b[0;34m=\u001b[0m\u001b[0mregion1\u001b[0m\u001b[0;34m,\u001b[0m\u001b[0;34m\u001b[0m\u001b[0;34m\u001b[0m\u001b[0m\n\u001b[0;32m---> 24\u001b[0;31m             \u001b[0mmaxPixels\u001b[0m\u001b[0;34m=\u001b[0m\u001b[0mint\u001b[0m\u001b[0;34m(\u001b[0m\u001b[0;36m1e13\u001b[0m\u001b[0;34m)\u001b[0m\u001b[0;34m\u001b[0m\u001b[0;34m\u001b[0m\u001b[0m\n\u001b[0m\u001b[1;32m     25\u001b[0m         )\n",
            "\u001b[0;32m/usr/local/lib/python3.7/dist-packages/geetools/batch/imagecollection.py\u001b[0m in \u001b[0;36mtoDrive\u001b[0;34m(collection, folder, namePattern, scale, dataType, region, datePattern, extra, verbose, **kwargs)\u001b[0m\n\u001b[1;32m     84\u001b[0m                 \u001b[0;32mbreak\u001b[0m\u001b[0;34m\u001b[0m\u001b[0;34m\u001b[0m\u001b[0m\n\u001b[1;32m     85\u001b[0m             \u001b[0;32melse\u001b[0m\u001b[0;34m:\u001b[0m\u001b[0;34m\u001b[0m\u001b[0;34m\u001b[0m\u001b[0m\n\u001b[0;32m---> 86\u001b[0;31m                 \u001b[0;32mraise\u001b[0m \u001b[0me\u001b[0m\u001b[0;34m\u001b[0m\u001b[0;34m\u001b[0m\u001b[0m\n\u001b[0m\u001b[1;32m     87\u001b[0m \u001b[0;34m\u001b[0m\u001b[0m\n\u001b[1;32m     88\u001b[0m     \u001b[0;32mreturn\u001b[0m \u001b[0mtasklist\u001b[0m\u001b[0;34m\u001b[0m\u001b[0;34m\u001b[0m\u001b[0m\n",
            "\u001b[0;32m/usr/local/lib/python3.7/dist-packages/geetools/batch/imagecollection.py\u001b[0m in \u001b[0;36mtoDrive\u001b[0;34m(collection, folder, namePattern, scale, dataType, region, datePattern, extra, verbose, **kwargs)\u001b[0m\n\u001b[1;32m     58\u001b[0m \u001b[0;34m\u001b[0m\u001b[0m\n\u001b[1;32m     59\u001b[0m             \u001b[0mname\u001b[0m \u001b[0;34m=\u001b[0m \u001b[0mmakeName\u001b[0m\u001b[0;34m(\u001b[0m\u001b[0mimg\u001b[0m\u001b[0;34m,\u001b[0m \u001b[0mnamePattern\u001b[0m\u001b[0;34m,\u001b[0m \u001b[0mdatePattern\u001b[0m\u001b[0;34m,\u001b[0m \u001b[0mextra\u001b[0m\u001b[0;34m)\u001b[0m\u001b[0;34m\u001b[0m\u001b[0;34m\u001b[0m\u001b[0m\n\u001b[0;32m---> 60\u001b[0;31m             \u001b[0mname\u001b[0m \u001b[0;34m=\u001b[0m \u001b[0mname\u001b[0m\u001b[0;34m.\u001b[0m\u001b[0mgetInfo\u001b[0m\u001b[0;34m(\u001b[0m\u001b[0;34m)\u001b[0m\u001b[0;34m\u001b[0m\u001b[0;34m\u001b[0m\u001b[0m\n\u001b[0m\u001b[1;32m     61\u001b[0m             \u001b[0mdescription\u001b[0m \u001b[0;34m=\u001b[0m \u001b[0mutils\u001b[0m\u001b[0;34m.\u001b[0m\u001b[0mmatchDescription\u001b[0m\u001b[0;34m(\u001b[0m\u001b[0mname\u001b[0m\u001b[0;34m)\u001b[0m\u001b[0;34m\u001b[0m\u001b[0;34m\u001b[0m\u001b[0m\n\u001b[1;32m     62\u001b[0m \u001b[0;34m\u001b[0m\u001b[0m\n",
            "\u001b[0;32m/usr/local/lib/python3.7/dist-packages/ee/computedobject.py\u001b[0m in \u001b[0;36mgetInfo\u001b[0;34m(self)\u001b[0m\n\u001b[1;32m     96\u001b[0m       \u001b[0mThe\u001b[0m \u001b[0mobject\u001b[0m \u001b[0mcan\u001b[0m \u001b[0mevaluate\u001b[0m \u001b[0mto\u001b[0m \u001b[0manything\u001b[0m\u001b[0;34m.\u001b[0m\u001b[0;34m\u001b[0m\u001b[0;34m\u001b[0m\u001b[0m\n\u001b[1;32m     97\u001b[0m     \"\"\"\n\u001b[0;32m---> 98\u001b[0;31m     \u001b[0;32mreturn\u001b[0m \u001b[0mdata\u001b[0m\u001b[0;34m.\u001b[0m\u001b[0mcomputeValue\u001b[0m\u001b[0;34m(\u001b[0m\u001b[0mself\u001b[0m\u001b[0;34m)\u001b[0m\u001b[0;34m\u001b[0m\u001b[0;34m\u001b[0m\u001b[0m\n\u001b[0m\u001b[1;32m     99\u001b[0m \u001b[0;34m\u001b[0m\u001b[0m\n\u001b[1;32m    100\u001b[0m   \u001b[0;32mdef\u001b[0m \u001b[0mencode\u001b[0m\u001b[0;34m(\u001b[0m\u001b[0mself\u001b[0m\u001b[0;34m,\u001b[0m \u001b[0mencoder\u001b[0m\u001b[0;34m)\u001b[0m\u001b[0;34m:\u001b[0m\u001b[0;34m\u001b[0m\u001b[0;34m\u001b[0m\u001b[0m\n",
            "\u001b[0;32m/usr/local/lib/python3.7/dist-packages/ee/data.py\u001b[0m in \u001b[0;36mcomputeValue\u001b[0;34m(obj)\u001b[0m\n\u001b[1;32m    732\u001b[0m           \u001b[0mbody\u001b[0m\u001b[0;34m=\u001b[0m\u001b[0;34m{\u001b[0m\u001b[0;34m'expression'\u001b[0m\u001b[0;34m:\u001b[0m \u001b[0mserializer\u001b[0m\u001b[0;34m.\u001b[0m\u001b[0mencode\u001b[0m\u001b[0;34m(\u001b[0m\u001b[0mobj\u001b[0m\u001b[0;34m,\u001b[0m \u001b[0mfor_cloud_api\u001b[0m\u001b[0;34m=\u001b[0m\u001b[0;32mTrue\u001b[0m\u001b[0;34m)\u001b[0m\u001b[0;34m}\u001b[0m\u001b[0;34m,\u001b[0m\u001b[0;34m\u001b[0m\u001b[0;34m\u001b[0m\u001b[0m\n\u001b[1;32m    733\u001b[0m           \u001b[0mproject\u001b[0m\u001b[0;34m=\u001b[0m\u001b[0m_get_projects_path\u001b[0m\u001b[0;34m(\u001b[0m\u001b[0;34m)\u001b[0m\u001b[0;34m,\u001b[0m\u001b[0;34m\u001b[0m\u001b[0;34m\u001b[0m\u001b[0m\n\u001b[0;32m--> 734\u001b[0;31m           prettyPrint=False))['result']\n\u001b[0m\u001b[1;32m    735\u001b[0m \u001b[0;34m\u001b[0m\u001b[0m\n\u001b[1;32m    736\u001b[0m \u001b[0;34m\u001b[0m\u001b[0m\n",
            "\u001b[0;32m/usr/local/lib/python3.7/dist-packages/ee/data.py\u001b[0m in \u001b[0;36m_execute_cloud_call\u001b[0;34m(call, num_retries)\u001b[0m\n\u001b[1;32m    330\u001b[0m     \u001b[0;32mreturn\u001b[0m \u001b[0mcall\u001b[0m\u001b[0;34m.\u001b[0m\u001b[0mexecute\u001b[0m\u001b[0;34m(\u001b[0m\u001b[0mnum_retries\u001b[0m\u001b[0;34m=\u001b[0m\u001b[0mnum_retries\u001b[0m\u001b[0;34m)\u001b[0m\u001b[0;34m\u001b[0m\u001b[0;34m\u001b[0m\u001b[0m\n\u001b[1;32m    331\u001b[0m   \u001b[0;32mexcept\u001b[0m \u001b[0mgoogleapiclient\u001b[0m\u001b[0;34m.\u001b[0m\u001b[0merrors\u001b[0m\u001b[0;34m.\u001b[0m\u001b[0mHttpError\u001b[0m \u001b[0;32mas\u001b[0m \u001b[0me\u001b[0m\u001b[0;34m:\u001b[0m\u001b[0;34m\u001b[0m\u001b[0;34m\u001b[0m\u001b[0m\n\u001b[0;32m--> 332\u001b[0;31m     \u001b[0;32mraise\u001b[0m \u001b[0m_translate_cloud_exception\u001b[0m\u001b[0;34m(\u001b[0m\u001b[0me\u001b[0m\u001b[0;34m)\u001b[0m\u001b[0;34m\u001b[0m\u001b[0;34m\u001b[0m\u001b[0m\n\u001b[0m\u001b[1;32m    333\u001b[0m \u001b[0;34m\u001b[0m\u001b[0m\n\u001b[1;32m    334\u001b[0m \u001b[0;34m\u001b[0m\u001b[0m\n",
            "\u001b[0;31mEEException\u001b[0m: User memory limit exceeded."
          ]
        }
      ]
    },
    {
      "cell_type": "code",
      "source": [
        "# Not needed. Just for eyeballing some values in the images.\n",
        "lat, lon = 37, -100\n",
        "\n",
        "my_map = folium.Map(location=[lat, lon], zoom_start=4)\n",
        "my_map\n",
        "\n",
        "def add_ee_layer(self, ee_image_object, vis_params, name):\n",
        "    \"\"\"Adds a method for displaying Earth Engine image tiles to folium map.\"\"\"\n",
        "    map_id_dict = ee.Image(ee_image_object).getMapId(vis_params)\n",
        "    folium.raster_layers.TileLayer(\n",
        "        tiles=map_id_dict['tile_fetcher'].url_format,\n",
        "        attr='Map Data &copy; <a href=\"https://earthengine.google.com/\">Google Earth Engine</a>',\n",
        "        name=name,\n",
        "        overlay=True,\n",
        "        control=True\n",
        "    ).add_to(self)\n",
        "\n",
        "# Add Earth Engine drawing method to folium.\n",
        "folium.Map.add_ee_layer = add_ee_layer\n",
        "\n",
        "lc_img1 = tearlyvp.select('T_early').first()\n",
        "lc_img2 = tearlyvp.select('rel_hum').first()\n",
        "\n",
        "lc_vis_params = {\n",
        "    'min': 1,'max': 17,\n",
        "    'palette': ['05450a','086a10', '54a708', '78d203', '009900', 'c6b044',\n",
        "                'dcd159', 'dade48', 'fbff13', 'b6ff05', '27ff87', 'c24f44',\n",
        "                'a5a5a5', 'ff6d4c', '69fff8', 'f9ffa4', '1c0dff']\n",
        "}\n",
        "\n",
        "lc_vis_params2 = {\n",
        "    'min': 1,'max': 99,\n",
        "    'palette': ['05450a','086a10', '54a708', '78d203', '009900', 'c6b044',\n",
        "                'dcd159', 'dade48', 'fbff13', 'b6ff05', '27ff87', 'c24f44',\n",
        "                'a5a5a5', 'ff6d4c', '69fff8', 'f9ffa4', '1c0dff']\n",
        "}\n",
        "\n",
        "my_map.add_ee_layer(lc_img1, lc_vis_params, 't')\n",
        "my_map.add_ee_layer(lc_img2, lc_vis_params2, 'rh')\n",
        "\n",
        "# Add a layer control panel to the map.\n",
        "my_map.add_child(folium.LayerControl())\n",
        "\n",
        "# Display the map.\n",
        "display(my_map)\n",
        "\n"
      ],
      "metadata": {
        "colab": {
          "base_uri": "https://localhost:8080/",
          "height": 759
        },
        "id": "mx-xpH4MPGIs",
        "outputId": "edbf0d45-ff8e-4ffe-feb7-040b0da6d388"
      },
      "execution_count": 11,
      "outputs": [
        {
          "output_type": "display_data",
          "data": {
            "text/plain": [
              "<folium.folium.Map at 0x7f499332b410>"
            ],
            "text/html": [
              "<div style=\"width:100%;\"><div style=\"position:relative;width:100%;height:0;padding-bottom:60%;\"><span style=\"color:#565656\">Make this Notebook Trusted to load map: File -> Trust Notebook</span><iframe src=\"about:blank\" style=\"position:absolute;width:100%;height:100%;left:0;top:0;border:none !important;\" data-html=%3C%21DOCTYPE%20html%3E%0A%3Chead%3E%20%20%20%20%0A%20%20%20%20%3Cmeta%20http-equiv%3D%22content-type%22%20content%3D%22text/html%3B%20charset%3DUTF-8%22%20/%3E%0A%20%20%20%20%3Cscript%3EL_PREFER_CANVAS%3Dfalse%3B%20L_NO_TOUCH%3Dfalse%3B%20L_DISABLE_3D%3Dfalse%3B%3C/script%3E%0A%20%20%20%20%3Cscript%20src%3D%22https%3A//cdn.jsdelivr.net/npm/leaflet%401.4.0/dist/leaflet.js%22%3E%3C/script%3E%0A%20%20%20%20%3Cscript%20src%3D%22https%3A//code.jquery.com/jquery-1.12.4.min.js%22%3E%3C/script%3E%0A%20%20%20%20%3Cscript%20src%3D%22https%3A//maxcdn.bootstrapcdn.com/bootstrap/3.2.0/js/bootstrap.min.js%22%3E%3C/script%3E%0A%20%20%20%20%3Cscript%20src%3D%22https%3A//cdnjs.cloudflare.com/ajax/libs/Leaflet.awesome-markers/2.0.2/leaflet.awesome-markers.js%22%3E%3C/script%3E%0A%20%20%20%20%3Clink%20rel%3D%22stylesheet%22%20href%3D%22https%3A//cdn.jsdelivr.net/npm/leaflet%401.4.0/dist/leaflet.css%22/%3E%0A%20%20%20%20%3Clink%20rel%3D%22stylesheet%22%20href%3D%22https%3A//maxcdn.bootstrapcdn.com/bootstrap/3.2.0/css/bootstrap.min.css%22/%3E%0A%20%20%20%20%3Clink%20rel%3D%22stylesheet%22%20href%3D%22https%3A//maxcdn.bootstrapcdn.com/bootstrap/3.2.0/css/bootstrap-theme.min.css%22/%3E%0A%20%20%20%20%3Clink%20rel%3D%22stylesheet%22%20href%3D%22https%3A//maxcdn.bootstrapcdn.com/font-awesome/4.6.3/css/font-awesome.min.css%22/%3E%0A%20%20%20%20%3Clink%20rel%3D%22stylesheet%22%20href%3D%22https%3A//cdnjs.cloudflare.com/ajax/libs/Leaflet.awesome-markers/2.0.2/leaflet.awesome-markers.css%22/%3E%0A%20%20%20%20%3Clink%20rel%3D%22stylesheet%22%20href%3D%22https%3A//rawcdn.githack.com/python-visualization/folium/master/folium/templates/leaflet.awesome.rotate.css%22/%3E%0A%20%20%20%20%3Cstyle%3Ehtml%2C%20body%20%7Bwidth%3A%20100%25%3Bheight%3A%20100%25%3Bmargin%3A%200%3Bpadding%3A%200%3B%7D%3C/style%3E%0A%20%20%20%20%3Cstyle%3E%23map%20%7Bposition%3Aabsolute%3Btop%3A0%3Bbottom%3A0%3Bright%3A0%3Bleft%3A0%3B%7D%3C/style%3E%0A%20%20%20%20%0A%20%20%20%20%3Cmeta%20name%3D%22viewport%22%20content%3D%22width%3Ddevice-width%2C%0A%20%20%20%20%20%20%20%20initial-scale%3D1.0%2C%20maximum-scale%3D1.0%2C%20user-scalable%3Dno%22%20/%3E%0A%20%20%20%20%3Cstyle%3E%23map_06abbbf8739640d8a8bd9911cbeeb3aa%20%7B%0A%20%20%20%20%20%20%20%20position%3A%20relative%3B%0A%20%20%20%20%20%20%20%20width%3A%20100.0%25%3B%0A%20%20%20%20%20%20%20%20height%3A%20100.0%25%3B%0A%20%20%20%20%20%20%20%20left%3A%200.0%25%3B%0A%20%20%20%20%20%20%20%20top%3A%200.0%25%3B%0A%20%20%20%20%20%20%20%20%7D%0A%20%20%20%20%3C/style%3E%0A%3C/head%3E%0A%3Cbody%3E%20%20%20%20%0A%20%20%20%20%0A%20%20%20%20%3Cdiv%20class%3D%22folium-map%22%20id%3D%22map_06abbbf8739640d8a8bd9911cbeeb3aa%22%20%3E%3C/div%3E%0A%3C/body%3E%0A%3Cscript%3E%20%20%20%20%0A%20%20%20%20%0A%20%20%20%20%0A%20%20%20%20%20%20%20%20var%20bounds%20%3D%20null%3B%0A%20%20%20%20%0A%0A%20%20%20%20var%20map_06abbbf8739640d8a8bd9911cbeeb3aa%20%3D%20L.map%28%0A%20%20%20%20%20%20%20%20%27map_06abbbf8739640d8a8bd9911cbeeb3aa%27%2C%20%7B%0A%20%20%20%20%20%20%20%20center%3A%20%5B37%2C%20-100%5D%2C%0A%20%20%20%20%20%20%20%20zoom%3A%204%2C%0A%20%20%20%20%20%20%20%20maxBounds%3A%20bounds%2C%0A%20%20%20%20%20%20%20%20layers%3A%20%5B%5D%2C%0A%20%20%20%20%20%20%20%20worldCopyJump%3A%20false%2C%0A%20%20%20%20%20%20%20%20crs%3A%20L.CRS.EPSG3857%2C%0A%20%20%20%20%20%20%20%20zoomControl%3A%20true%2C%0A%20%20%20%20%20%20%20%20%7D%29%3B%0A%0A%0A%20%20%20%20%0A%20%20%20%20var%20tile_layer_10a952ab6b7840e2b30e5b17857b1506%20%3D%20L.tileLayer%28%0A%20%20%20%20%20%20%20%20%27https%3A//%7Bs%7D.tile.openstreetmap.org/%7Bz%7D/%7Bx%7D/%7By%7D.png%27%2C%0A%20%20%20%20%20%20%20%20%7B%0A%20%20%20%20%20%20%20%20%22attribution%22%3A%20null%2C%0A%20%20%20%20%20%20%20%20%22detectRetina%22%3A%20false%2C%0A%20%20%20%20%20%20%20%20%22maxNativeZoom%22%3A%2018%2C%0A%20%20%20%20%20%20%20%20%22maxZoom%22%3A%2018%2C%0A%20%20%20%20%20%20%20%20%22minZoom%22%3A%200%2C%0A%20%20%20%20%20%20%20%20%22noWrap%22%3A%20false%2C%0A%20%20%20%20%20%20%20%20%22opacity%22%3A%201%2C%0A%20%20%20%20%20%20%20%20%22subdomains%22%3A%20%22abc%22%2C%0A%20%20%20%20%20%20%20%20%22tms%22%3A%20false%0A%7D%29.addTo%28map_06abbbf8739640d8a8bd9911cbeeb3aa%29%3B%0A%20%20%20%20var%20tile_layer_23c8a10e69614194892ec2598e039ec1%20%3D%20L.tileLayer%28%0A%20%20%20%20%20%20%20%20%27https%3A//earthengine.googleapis.com/v1alpha/projects/earthengine-legacy/maps/1053139a535e6e1982ca255276cf2b6a-330ed62eee3b5342a61846d69fa654da/tiles/%7Bz%7D/%7Bx%7D/%7By%7D%27%2C%0A%20%20%20%20%20%20%20%20%7B%0A%20%20%20%20%20%20%20%20%22attribution%22%3A%20%22Map%20Data%20%26copy%3B%20%3Ca%20href%3D%5C%22https%3A//earthengine.google.com/%5C%22%3EGoogle%20Earth%20Engine%3C/a%3E%22%2C%0A%20%20%20%20%20%20%20%20%22detectRetina%22%3A%20false%2C%0A%20%20%20%20%20%20%20%20%22maxNativeZoom%22%3A%2018%2C%0A%20%20%20%20%20%20%20%20%22maxZoom%22%3A%2018%2C%0A%20%20%20%20%20%20%20%20%22minZoom%22%3A%200%2C%0A%20%20%20%20%20%20%20%20%22noWrap%22%3A%20false%2C%0A%20%20%20%20%20%20%20%20%22opacity%22%3A%201%2C%0A%20%20%20%20%20%20%20%20%22subdomains%22%3A%20%22abc%22%2C%0A%20%20%20%20%20%20%20%20%22tms%22%3A%20false%0A%7D%29.addTo%28map_06abbbf8739640d8a8bd9911cbeeb3aa%29%3B%0A%20%20%20%20var%20tile_layer_618a51c4dacf4234a3134e09d21c2558%20%3D%20L.tileLayer%28%0A%20%20%20%20%20%20%20%20%27https%3A//earthengine.googleapis.com/v1alpha/projects/earthengine-legacy/maps/f7c14026547a998495de45c49dff157c-4bf234d6dcbc76eab9b17022b0daba8f/tiles/%7Bz%7D/%7Bx%7D/%7By%7D%27%2C%0A%20%20%20%20%20%20%20%20%7B%0A%20%20%20%20%20%20%20%20%22attribution%22%3A%20%22Map%20Data%20%26copy%3B%20%3Ca%20href%3D%5C%22https%3A//earthengine.google.com/%5C%22%3EGoogle%20Earth%20Engine%3C/a%3E%22%2C%0A%20%20%20%20%20%20%20%20%22detectRetina%22%3A%20false%2C%0A%20%20%20%20%20%20%20%20%22maxNativeZoom%22%3A%2018%2C%0A%20%20%20%20%20%20%20%20%22maxZoom%22%3A%2018%2C%0A%20%20%20%20%20%20%20%20%22minZoom%22%3A%200%2C%0A%20%20%20%20%20%20%20%20%22noWrap%22%3A%20false%2C%0A%20%20%20%20%20%20%20%20%22opacity%22%3A%201%2C%0A%20%20%20%20%20%20%20%20%22subdomains%22%3A%20%22abc%22%2C%0A%20%20%20%20%20%20%20%20%22tms%22%3A%20false%0A%7D%29.addTo%28map_06abbbf8739640d8a8bd9911cbeeb3aa%29%3B%0A%20%20%20%20%0A%20%20%20%20%20%20%20%20%20%20%20%20var%20layer_control_e118402203464e1d9f6ab9d907d5a13c%20%3D%20%7B%0A%20%20%20%20%20%20%20%20%20%20%20%20%20%20%20%20base_layers%20%3A%20%7B%20%22openstreetmap%22%20%3A%20tile_layer_10a952ab6b7840e2b30e5b17857b1506%2C%20%7D%2C%0A%20%20%20%20%20%20%20%20%20%20%20%20%20%20%20%20overlays%20%3A%20%7B%20%22t%22%20%3A%20tile_layer_23c8a10e69614194892ec2598e039ec1%2C%22rh%22%20%3A%20tile_layer_618a51c4dacf4234a3134e09d21c2558%2C%20%7D%0A%20%20%20%20%20%20%20%20%20%20%20%20%20%20%20%20%7D%3B%0A%20%20%20%20%20%20%20%20%20%20%20%20L.control.layers%28%0A%20%20%20%20%20%20%20%20%20%20%20%20%20%20%20%20layer_control_e118402203464e1d9f6ab9d907d5a13c.base_layers%2C%0A%20%20%20%20%20%20%20%20%20%20%20%20%20%20%20%20layer_control_e118402203464e1d9f6ab9d907d5a13c.overlays%2C%0A%20%20%20%20%20%20%20%20%20%20%20%20%20%20%20%20%7Bposition%3A%20%27topright%27%2C%0A%20%20%20%20%20%20%20%20%20%20%20%20%20%20%20%20%20collapsed%3A%20true%2C%0A%20%20%20%20%20%20%20%20%20%20%20%20%20%20%20%20%20autoZIndex%3A%20true%0A%20%20%20%20%20%20%20%20%20%20%20%20%20%20%20%20%7D%29.addTo%28map_06abbbf8739640d8a8bd9911cbeeb3aa%29%3B%0A%20%20%20%20%20%20%20%20%20%20%20%20%0A%20%20%20%20%20%20%20%20%0A%3C/script%3E onload=\"this.contentDocument.open();this.contentDocument.write(    decodeURIComponent(this.getAttribute('data-html')));this.contentDocument.close();\" allowfullscreen webkitallowfullscreen mozallowfullscreen></iframe></div></div>"
            ]
          },
          "metadata": {}
        }
      ]
    }
  ]
}